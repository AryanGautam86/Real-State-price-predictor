{
 "cells": [
  {
   "cell_type": "code",
   "execution_count": 1,
   "id": "86cf7c6d-ffa6-4346-baf2-b4e67c7ea193",
   "metadata": {},
   "outputs": [
    {
     "data": {
      "text/plain": [
       "array([22.336])"
      ]
     },
     "execution_count": 1,
     "metadata": {},
     "output_type": "execute_result"
    }
   ],
   "source": [
    "from joblib import dump, load\n",
    "import numpy as np\n",
    "model=load('real_pred.joblib')\n",
    "input=np.array([[-0.43942006,  3.12628155, -1.12165014, -0.27288841, -1.42262747,\n",
    "       -0.23906061, -1.31238772,  2.61111401, -1.0016859 , -0.5778192 ,\n",
    "       -0.97491834,  0.41164221, -0.86091034]])\n",
    "model.predict(input)"
   ]
  },
  {
   "cell_type": "code",
   "execution_count": 3,
   "id": "b76a05ef-12c7-497b-a0c2-8046e8ec6b2c",
   "metadata": {},
   "outputs": [
    {
     "data": {
      "text/plain": [
       "array([11.557])"
      ]
     },
     "execution_count": 3,
     "metadata": {},
     "output_type": "execute_result"
    }
   ],
   "source": [
    "input=np.array([[ 1.76329132, -0.4898311 ,  0.98336806, -0.27288841,  0.96749915,\n",
    "       -0.0772041 ,  1.09697304, -1.12576063,  1.63579367,  1.50571521,\n",
    "        0.81196637,  0.42050096,  1.24376169]])\n",
    "model.predict(input)"
   ]
  },
  {
   "cell_type": "code",
   "execution_count": null,
   "id": "88918fdd-0164-4f20-ae27-b4fb39ee2ef6",
   "metadata": {},
   "outputs": [],
   "source": [
    "# Actual Value is [10.2]"
   ]
  }
 ],
 "metadata": {
  "kernelspec": {
   "display_name": "Python 3 (ipykernel)",
   "language": "python",
   "name": "python3"
  },
  "language_info": {
   "codemirror_mode": {
    "name": "ipython",
    "version": 3
   },
   "file_extension": ".py",
   "mimetype": "text/x-python",
   "name": "python",
   "nbconvert_exporter": "python",
   "pygments_lexer": "ipython3",
   "version": "3.12.2"
  }
 },
 "nbformat": 4,
 "nbformat_minor": 5
}
